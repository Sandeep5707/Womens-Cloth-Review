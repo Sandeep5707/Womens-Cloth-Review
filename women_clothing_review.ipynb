{
  "cells": [
    {
      "cell_type": "markdown",
      "metadata": {
        "id": "pPDlCNEnWlbV"
      },
      "source": [
        "#Title of Project\n",
        "#Women  Clothing Review\n",
        "\n",
        "---\n",
        "\n"
      ]
    },
    {
      "cell_type": "markdown",
      "metadata": {
        "id": "ixeJ4R_fWvsv"
      },
      "source": [
        "#Import Library"
      ]
    },
    {
      "cell_type": "code",
      "execution_count": null,
      "metadata": {
        "id": "xjYDWT-_RIMg"
      },
      "outputs": [],
      "source": [
        "import numpy as np\n",
        "import pandas as pd\n",
        "import matplotlib.pyplot as plt\n",
        "import seaborn as sns\n"
      ]
    },
    {
      "cell_type": "markdown",
      "metadata": {
        "id": "5Xd7KKD-W9l5"
      },
      "source": [
        "#Import DataSet"
      ]
    },
    {
      "cell_type": "code",
      "execution_count": null,
      "metadata": {
        "id": "a2yWGuezroc5"
      },
      "outputs": [],
      "source": [
        "df=pd.read_csv('/content/Womens Clothing E-Commerce Reviews.csv')"
      ]
    },
    {
      "cell_type": "code",
      "execution_count": null,
      "metadata": {
        "id": "bEMUTwg9ruxQ"
      },
      "outputs": [],
      "source": [
        "df.head()"
      ]
    },
    {
      "cell_type": "code",
      "execution_count": null,
      "metadata": {
        "colab": {
          "base_uri": "https://localhost:8080/"
        },
        "id": "jaN5nSUArz8Q",
        "outputId": "6cda65bd-96e2-4cdf-9c14-f139a5f3d434"
      },
      "outputs": [
        {
          "name": "stdout",
          "output_type": "stream",
          "text": [
            "<class 'pandas.core.frame.DataFrame'>\n",
            "RangeIndex: 23486 entries, 0 to 23485\n",
            "Data columns (total 10 columns):\n",
            " #   Column                   Non-Null Count  Dtype \n",
            "---  ------                   --------------  ----- \n",
            " 0   Clothing ID              23486 non-null  int64 \n",
            " 1   Age                      23486 non-null  int64 \n",
            " 2   Title                    19676 non-null  object\n",
            " 3   Review                   22641 non-null  object\n",
            " 4   Rating                   23486 non-null  int64 \n",
            " 5   Recommended IND          23486 non-null  int64 \n",
            " 6   Positive Feedback Count  23486 non-null  int64 \n",
            " 7   Division Name            23472 non-null  object\n",
            " 8   Department Name          23472 non-null  object\n",
            " 9   Class Name               23472 non-null  object\n",
            "dtypes: int64(5), object(5)\n",
            "memory usage: 1.8+ MB\n"
          ]
        }
      ],
      "source": [
        "df.info()"
      ]
    },
    {
      "cell_type": "code",
      "execution_count": null,
      "metadata": {
        "colab": {
          "base_uri": "https://localhost:8080/"
        },
        "id": "6C4bDyIgr43Q",
        "outputId": "c5413d67-054e-49aa-aecb-49a3d792ecbc"
      },
      "outputs": [
        {
          "data": {
            "text/plain": [
              "(23486, 10)"
            ]
          },
          "execution_count": 80,
          "metadata": {},
          "output_type": "execute_result"
        }
      ],
      "source": [
        "df.shape"
      ]
    },
    {
      "cell_type": "markdown",
      "metadata": {
        "id": "rAv7U4rLr9Lv"
      },
      "source": [
        "#Missing Values\n",
        "\n",
        "Remove missing values in Reviews Columns with no Review Text"
      ]
    },
    {
      "cell_type": "code",
      "execution_count": null,
      "metadata": {
        "colab": {
          "base_uri": "https://localhost:8080/"
        },
        "id": "wr6hpFjwsNcG",
        "outputId": "4c621c3f-f0cd-477e-d0c6-cde7cc849905"
      },
      "outputs": [
        {
          "data": {
            "text/plain": [
              "Clothing ID                   0\n",
              "Age                           0\n",
              "Title                      3810\n",
              "Review                      845\n",
              "Rating                        0\n",
              "Recommended IND               0\n",
              "Positive Feedback Count       0\n",
              "Division Name                14\n",
              "Department Name              14\n",
              "Class Name                   14\n",
              "dtype: int64"
            ]
          },
          "execution_count": 81,
          "metadata": {},
          "output_type": "execute_result"
        }
      ],
      "source": [
        "df.isna().sum()"
      ]
    },
    {
      "cell_type": "code",
      "execution_count": null,
      "metadata": {
        "id": "Rp0H2oj4sSj6"
      },
      "outputs": [],
      "source": [
        "df[df['Review']==\"\"]=np.NaN"
      ]
    },
    {
      "cell_type": "code",
      "execution_count": null,
      "metadata": {
        "id": "xYIAD7Y_sjfy"
      },
      "outputs": [],
      "source": [
        "df['Review'].fillna(\"No Review\",inplace=True)"
      ]
    },
    {
      "cell_type": "code",
      "execution_count": null,
      "metadata": {
        "colab": {
          "base_uri": "https://localhost:8080/"
        },
        "id": "wlWDPZZFsvx4",
        "outputId": "c62cede0-bf5b-4e7c-db9d-0446a7ad3e40"
      },
      "outputs": [
        {
          "data": {
            "text/plain": [
              "Clothing ID                   0\n",
              "Age                           0\n",
              "Title                      3810\n",
              "Review                        0\n",
              "Rating                        0\n",
              "Recommended IND               0\n",
              "Positive Feedback Count       0\n",
              "Division Name                14\n",
              "Department Name              14\n",
              "Class Name                   14\n",
              "dtype: int64"
            ]
          },
          "execution_count": 85,
          "metadata": {},
          "output_type": "execute_result"
        }
      ],
      "source": [
        "df.isna().sum()"
      ]
    },
    {
      "cell_type": "code",
      "execution_count": null,
      "metadata": {
        "colab": {
          "base_uri": "https://localhost:8080/"
        },
        "id": "TAiwAJ9Ds2La",
        "outputId": "126073a8-2581-447c-a259-8e34dacd7f57"
      },
      "outputs": [
        {
          "data": {
            "text/plain": [
              "0                                                                                                                                                                                                                                                                                                                                                                                                                                                                      Absolutely wonderful - silky and sexy and comfortable\n",
              "1                                                                                                                                                                                                            Love this dress!  it's sooo pretty.  i happened to find it in a store, and i'm glad i did bc i never would have ordered it online bc it's petite.  i bought a petite and am 5'8\".  i love the length on me- hits just a little below the knee.  would definitely be a true midi on someone who is truly petite.\n",
              "2        I had such high hopes for this dress and really wanted it to work for me. i initially ordered the petite small (my usual size) but i found this to be outrageously small. so small in fact that i could not zip it up! i reordered it in petite medium, which was just ok. overall, the top half was comfortable and fit nicely, but the bottom half had a very tight under layer and several somewhat cheap (net) over layers. imo, a major design flaw was the net over layer sewn directly into the zipper - ...\n",
              "3                                                                                                                                                                                                                                                                                                                                                                                               I love, love, love this jumpsuit. it's fun, flirty, and fabulous! every time i wear it, i get nothing but great compliments!\n",
              "4                                                                                                                                                                                                                                                                                                                           This shirt is very flattering to all due to the adjustable front tie. it is the perfect length to wear with leggings and it is sleeveless so it pairs well with any cardigan. love this shirt!!!\n",
              "                                                                                                                                                                                                                                                                ...                                                                                                                                                                                                                                                         \n",
              "23481                                                                                                                                                                                                                                                                                                                                                                                    I was very happy to snag this dress at such a great price! it's very easy to slip on and has a very flattering cut and color combo.\n",
              "23482                                                                                                                                                                                                                                                                                       It reminds me of maternity clothes. soft, stretchy, shiny material. cut is flattering and drapes nicely. i only found one button to close front... looked awkward. nice long sleeves.\\nnot for me but maybe for others. just ok.\n",
              "23483                                                                                                                                                                                                                                                                                                       This fit well, but the top was very see through. this never would have worked for me. i'm glad i was able to try it on in the store and didn't order it online. with different fabric, it would have been great.\n",
              "23484                                                                            I bought this dress for a wedding i have this summer, and it's so cute. unfortunately the fit isn't perfect. the medium fits my waist perfectly, but was way too long and too big in the bust and shoulders. if i wanted to spend the money, i could get it tailored, but i just felt like it might not be worth it. side note - this dress was delivered to me with a nordstrom tag on it and i found it much cheaper there after looking!\n",
              "23485                                                                                                                                                                                                                                                                                                                                                                                                         This dress in a lovely platinum is feminine and fits perfectly, easy to wear and comfy, too! highly recommend!\n",
              "Name: Review, Length: 23486, dtype: object"
            ]
          },
          "execution_count": 86,
          "metadata": {},
          "output_type": "execute_result"
        }
      ],
      "source": [
        "df['Review']"
      ]
    },
    {
      "cell_type": "markdown",
      "metadata": {
        "id": "o6kTCXIas8Oy"
      },
      "source": [
        "#Define Target (y) and Feature (X)"
      ]
    },
    {
      "cell_type": "code",
      "execution_count": null,
      "metadata": {
        "colab": {
          "base_uri": "https://localhost:8080/"
        },
        "id": "RkJmO7IntGH0",
        "outputId": "984b25e9-a4e2-4a79-b3d8-6c7425d80180"
      },
      "outputs": [
        {
          "data": {
            "text/plain": [
              "Index(['Clothing ID', 'Age', 'Title', 'Review', 'Rating', 'Recommended IND',\n",
              "       'Positive Feedback Count', 'Division Name', 'Department Name',\n",
              "       'Class Name'],\n",
              "      dtype='object')"
            ]
          },
          "execution_count": 87,
          "metadata": {},
          "output_type": "execute_result"
        }
      ],
      "source": [
        "df.columns"
      ]
    },
    {
      "cell_type": "code",
      "execution_count": null,
      "metadata": {
        "id": "lP9Dp8s0tInY"
      },
      "outputs": [],
      "source": [
        "X=df['Review']"
      ]
    },
    {
      "cell_type": "code",
      "execution_count": null,
      "metadata": {
        "id": "dDp7Z0zKtNdQ"
      },
      "outputs": [],
      "source": [
        "y=df['Rating']"
      ]
    },
    {
      "cell_type": "code",
      "execution_count": null,
      "metadata": {
        "colab": {
          "base_uri": "https://localhost:8080/"
        },
        "id": "fqxA4l8ytRx3",
        "outputId": "db120116-3cf3-4043-a411-b72d96e9e4ed"
      },
      "outputs": [
        {
          "data": {
            "text/plain": [
              "5.0    13131\n",
              "4.0     5077\n",
              "3.0     2871\n",
              "2.0     1565\n",
              "1.0      842\n",
              "Name: Rating, dtype: int64"
            ]
          },
          "execution_count": 90,
          "metadata": {},
          "output_type": "execute_result"
        }
      ],
      "source": [
        "df['Rating'].value_counts()"
      ]
    },
    {
      "cell_type": "markdown",
      "metadata": {
        "id": "U0qfDtVOtaD-"
      },
      "source": [
        "#Train Test Split"
      ]
    },
    {
      "cell_type": "code",
      "execution_count": null,
      "metadata": {
        "id": "s-RHJADhtee3"
      },
      "outputs": [],
      "source": [
        "from sklearn.model_selection import train_test_split"
      ]
    },
    {
      "cell_type": "code",
      "execution_count": null,
      "metadata": {
        "id": "0dv2UeRztsd-"
      },
      "outputs": [],
      "source": [
        "X_train, X_test, y_train, y_test = train_test_split(X,y, train_size = 0.7, stratify = y, random_state=42529)\n"
      ]
    },
    {
      "cell_type": "code",
      "execution_count": null,
      "metadata": {
        "colab": {
          "base_uri": "https://localhost:8080/"
        },
        "id": "VnaWlEXguGZZ",
        "outputId": "9d5a85e0-8d83-4c3e-ebde-25b4b0dc594d"
      },
      "outputs": [
        {
          "data": {
            "text/plain": [
              "((16440,), (7046,), (16440,), (7046,))"
            ]
          },
          "execution_count": 94,
          "metadata": {},
          "output_type": "execute_result"
        }
      ],
      "source": [
        "X_train.shape, X_test.shape, y_train.shape, y_test.shape"
      ]
    },
    {
      "cell_type": "markdown",
      "metadata": {
        "id": "ICLRKNTFuV08"
      },
      "source": [
        "#Get Feature Text Coversion to Tokens"
      ]
    },
    {
      "cell_type": "code",
      "execution_count": null,
      "metadata": {
        "id": "6IBOgPVNuUPJ"
      },
      "outputs": [],
      "source": [
        "from sklearn.feature_extraction.text import CountVectorizer"
      ]
    },
    {
      "cell_type": "code",
      "execution_count": null,
      "metadata": {
        "id": "9NLkyTs3uo-O"
      },
      "outputs": [],
      "source": [
        "cv=CountVectorizer(lowercase=True, analyzer='word',ngram_range=(2,3),stop_words= 'english',max_features=5000)"
      ]
    },
    {
      "cell_type": "code",
      "execution_count": null,
      "metadata": {
        "id": "5lxwCsMavGTy"
      },
      "outputs": [],
      "source": [
        "X_train = cv.fit_transform(X_train)"
      ]
    },
    {
      "cell_type": "code",
      "execution_count": null,
      "metadata": {
        "id": "PfkDOwkyvOuD"
      },
      "outputs": [],
      "source": [
        "cv.get_feature_names_out()"
      ]
    },
    {
      "cell_type": "code",
      "execution_count": null,
      "metadata": {
        "colab": {
          "base_uri": "https://localhost:8080/"
        },
        "id": "zWKOY7jhvUua",
        "outputId": "44a562d3-c12f-44ee-a3c1-75668515c4d8"
      },
      "outputs": [
        {
          "data": {
            "text/plain": [
              "array([[0, 0, 0, ..., 0, 0, 0],\n",
              "       [0, 0, 0, ..., 0, 0, 0],\n",
              "       [0, 0, 0, ..., 0, 0, 0],\n",
              "       ...,\n",
              "       [0, 0, 0, ..., 0, 0, 0],\n",
              "       [0, 0, 0, ..., 0, 0, 0],\n",
              "       [0, 0, 0, ..., 0, 0, 0]])"
            ]
          },
          "execution_count": 113,
          "metadata": {},
          "output_type": "execute_result"
        }
      ],
      "source": [
        "X_train.toarray()"
      ]
    },
    {
      "cell_type": "code",
      "execution_count": null,
      "metadata": {
        "id": "Kyn7fGZpvbY8"
      },
      "outputs": [],
      "source": [
        "X_test=cv.fit_transform(X_test)"
      ]
    },
    {
      "cell_type": "code",
      "execution_count": null,
      "metadata": {
        "colab": {
          "base_uri": "https://localhost:8080/"
        },
        "id": "u8NXpO7SvoNz",
        "outputId": "fa5d03de-3c8e-4dc9-c971-34dceae36cc4"
      },
      "outputs": [
        {
          "data": {
            "text/plain": [
              "array(['10 12', '10 dress', '10 dresses', ..., 'years old',\n",
              "       'yellow color', 'yoga pants'], dtype=object)"
            ]
          },
          "execution_count": 115,
          "metadata": {},
          "output_type": "execute_result"
        }
      ],
      "source": [
        "cv.get_feature_names_out()"
      ]
    },
    {
      "cell_type": "code",
      "execution_count": null,
      "metadata": {
        "colab": {
          "base_uri": "https://localhost:8080/"
        },
        "id": "iAzIBb7yvsqZ",
        "outputId": "87a96b08-efe6-4d25-d9c4-7e7cf6dc2d23"
      },
      "outputs": [
        {
          "data": {
            "text/plain": [
              "array([[0, 0, 0, ..., 0, 0, 0],\n",
              "       [0, 0, 0, ..., 0, 0, 0],\n",
              "       [0, 0, 0, ..., 0, 0, 0],\n",
              "       ...,\n",
              "       [0, 0, 0, ..., 0, 0, 0],\n",
              "       [0, 0, 0, ..., 0, 0, 0],\n",
              "       [0, 0, 0, ..., 0, 0, 0]])"
            ]
          },
          "execution_count": 116,
          "metadata": {},
          "output_type": "execute_result"
        }
      ],
      "source": [
        "X_test.toarray()"
      ]
    },
    {
      "cell_type": "markdown",
      "metadata": {
        "id": "ECnxen33v0AI"
      },
      "source": [
        "#Get Model Train"
      ]
    },
    {
      "cell_type": "code",
      "execution_count": null,
      "metadata": {
        "id": "qfMsg65Pvw9c"
      },
      "outputs": [],
      "source": [
        "from sklearn.naive_bayes import MultinomialNB"
      ]
    },
    {
      "cell_type": "code",
      "execution_count": null,
      "metadata": {
        "id": "dezZ1w_nwBz2"
      },
      "outputs": [],
      "source": [
        "model = MultinomialNB()"
      ]
    },
    {
      "cell_type": "code",
      "execution_count": null,
      "metadata": {
        "colab": {
          "base_uri": "https://localhost:8080/"
        },
        "id": "a46Fg_JkwGZT",
        "outputId": "86cac7ba-bd4a-425a-bade-23c1e7f0edbb"
      },
      "outputs": [
        {
          "data": {
            "text/plain": [
              "MultinomialNB()"
            ]
          },
          "execution_count": 119,
          "metadata": {},
          "output_type": "execute_result"
        }
      ],
      "source": [
        "model.fit(X_train, y_train)"
      ]
    },
    {
      "cell_type": "markdown",
      "metadata": {
        "id": "H308GKDqwO-6"
      },
      "source": [
        "#Get Model Prediction"
      ]
    },
    {
      "cell_type": "code",
      "execution_count": null,
      "metadata": {
        "id": "YRYpLq5PwOKd"
      },
      "outputs": [],
      "source": [
        "y_pred = model.predict(X_test)"
      ]
    },
    {
      "cell_type": "code",
      "execution_count": null,
      "metadata": {
        "id": "e1vOmhdTwaKU"
      },
      "outputs": [],
      "source": [
        "y.pred.shape"
      ]
    },
    {
      "cell_type": "code",
      "execution_count": null,
      "metadata": {
        "colab": {
          "base_uri": "https://localhost:8080/"
        },
        "id": "Y0FkBoP0wdUW",
        "outputId": "548fd6b9-941f-40bf-eef9-37fa7fcd9a0c"
      },
      "outputs": [
        {
          "data": {
            "text/plain": [
              "array([4., 5., 4., ..., 3., 4., 1.])"
            ]
          },
          "execution_count": 122,
          "metadata": {},
          "output_type": "execute_result"
        }
      ],
      "source": [
        "y_pred"
      ]
    },
    {
      "cell_type": "markdown",
      "metadata": {
        "id": "vikz0tIswkc4"
      },
      "source": [
        "#Get Probability of Each Predicted Class"
      ]
    },
    {
      "cell_type": "code",
      "execution_count": null,
      "metadata": {
        "colab": {
          "base_uri": "https://localhost:8080/"
        },
        "id": "PlAsowz_wjAm",
        "outputId": "83c51a45-c744-4250-aad3-b9cfe7465a18"
      },
      "outputs": [
        {
          "data": {
            "text/plain": [
              "array([[0.01597287, 0.06247668, 0.02343906, 0.86805191, 0.03005948],\n",
              "       [0.01938616, 0.03618749, 0.01366139, 0.02494917, 0.9058158 ],\n",
              "       [0.12714164, 0.31224624, 0.02402702, 0.4310927 , 0.10549239],\n",
              "       ...,\n",
              "       [0.12935707, 0.07677888, 0.54537581, 0.10858167, 0.13990657],\n",
              "       [0.01039322, 0.00244866, 0.02592397, 0.69603597, 0.26519819],\n",
              "       [0.3715833 , 0.28173991, 0.19139055, 0.14724676, 0.00803948]])"
            ]
          },
          "execution_count": 123,
          "metadata": {},
          "output_type": "execute_result"
        }
      ],
      "source": [
        "model.predict_proba(X_test)"
      ]
    },
    {
      "cell_type": "markdown",
      "metadata": {
        "id": "so_UV2EhwyRt"
      },
      "source": [
        "#Get Model Evaluation"
      ]
    },
    {
      "cell_type": "code",
      "execution_count": null,
      "metadata": {
        "id": "P-iS39F7w3Ay"
      },
      "outputs": [],
      "source": [
        "from sklearn.metrics import confusion_matrix, classification_report"
      ]
    },
    {
      "cell_type": "code",
      "execution_count": null,
      "metadata": {
        "colab": {
          "base_uri": "https://localhost:8080/"
        },
        "id": "qwLnLmeJxGTz",
        "outputId": "8f0e2f32-d6b9-427e-b281-7ab90cdc4b03"
      },
      "outputs": [
        {
          "name": "stdout",
          "output_type": "stream",
          "text": [
            "[[  17   24   29   47  136]\n",
            " [  46   60   52   92  220]\n",
            " [  91   87  115  184  384]\n",
            " [ 156  153  193  334  687]\n",
            " [ 395  302  375  737 2130]]\n"
          ]
        }
      ],
      "source": [
        "print(confusion_matrix(y_test,y_pred))"
      ]
    },
    {
      "cell_type": "code",
      "execution_count": null,
      "metadata": {
        "colab": {
          "base_uri": "https://localhost:8080/"
        },
        "id": "glkFe5nGxRj5",
        "outputId": "7fdf2fd7-f5bb-492f-e115-9f654cca0151"
      },
      "outputs": [
        {
          "name": "stdout",
          "output_type": "stream",
          "text": [
            "              precision    recall  f1-score   support\n",
            "\n",
            "         1.0       0.02      0.07      0.04       253\n",
            "         2.0       0.10      0.13      0.11       470\n",
            "         3.0       0.15      0.13      0.14       861\n",
            "         4.0       0.24      0.22      0.23      1523\n",
            "         5.0       0.60      0.54      0.57      3939\n",
            "\n",
            "    accuracy                           0.38      7046\n",
            "   macro avg       0.22      0.22      0.22      7046\n",
            "weighted avg       0.41      0.38      0.39      7046\n",
            "\n"
          ]
        }
      ],
      "source": [
        "print(classification_report(y_test,y_pred))"
      ]
    },
    {
      "cell_type": "markdown",
      "metadata": {
        "id": "8c3HKsgIxccL"
      },
      "source": [
        "#Recategories Ratings as poor(0) and good(1)"
      ]
    },
    {
      "cell_type": "code",
      "execution_count": null,
      "metadata": {
        "colab": {
          "base_uri": "https://localhost:8080/"
        },
        "id": "uO1GWEcxxakZ",
        "outputId": "55a845ca-c4e4-40b3-b212-fb2f8d323da6"
      },
      "outputs": [
        {
          "data": {
            "text/plain": [
              "5.0    13131\n",
              "4.0     5077\n",
              "3.0     2871\n",
              "2.0     1565\n",
              "1.0      842\n",
              "Name: Rating, dtype: int64"
            ]
          },
          "execution_count": 127,
          "metadata": {},
          "output_type": "execute_result"
        }
      ],
      "source": [
        "df['Rating'].value_counts()"
      ]
    },
    {
      "cell_type": "code",
      "execution_count": null,
      "metadata": {
        "id": "tj07z_Tkxx4r"
      },
      "outputs": [],
      "source": [
        "df.replace({'Rating':{1:0,2:0,3:0,4:1,5:1}}, inplace=True)"
      ]
    },
    {
      "cell_type": "code",
      "execution_count": null,
      "metadata": {
        "id": "eBQfjxqpyDb3"
      },
      "outputs": [],
      "source": [
        "y=df['Rating']"
      ]
    },
    {
      "cell_type": "code",
      "execution_count": null,
      "metadata": {
        "id": "97Vg3jhxyGKh"
      },
      "outputs": [],
      "source": [
        "X=df['Review']"
      ]
    },
    {
      "cell_type": "markdown",
      "metadata": {
        "id": "Olx4rJqTyOIO"
      },
      "source": [
        "#Train Test Split"
      ]
    },
    {
      "cell_type": "code",
      "execution_count": null,
      "metadata": {
        "id": "cmTK4V51yT21"
      },
      "outputs": [],
      "source": [
        "from sklearn.model_selection import train_test_split"
      ]
    },
    {
      "cell_type": "code",
      "execution_count": null,
      "metadata": {
        "id": "8C4PjWa6yYCv"
      },
      "outputs": [],
      "source": [
        "X_train, X_test, y_train, y_test = train_test_split(X,y, train_size = 0.7, stratify = y, random_state=42529)\n"
      ]
    },
    {
      "cell_type": "code",
      "execution_count": null,
      "metadata": {
        "colab": {
          "base_uri": "https://localhost:8080/"
        },
        "id": "gKe6GS35yc5o",
        "outputId": "a9c391d9-edb3-417e-f036-537c3cda2110"
      },
      "outputs": [
        {
          "data": {
            "text/plain": [
              "((16440,), (7046,), (16440,), (7046,))"
            ]
          },
          "execution_count": 134,
          "metadata": {},
          "output_type": "execute_result"
        }
      ],
      "source": [
        "X_train.shape, X_test.shape, y_train.shape, y_test.shape"
      ]
    },
    {
      "cell_type": "markdown",
      "metadata": {
        "id": "NwtTzFj5yhkD"
      },
      "source": [
        "#Get Feature Text Conversion to Tokens"
      ]
    },
    {
      "cell_type": "code",
      "execution_count": null,
      "metadata": {
        "id": "Cyjx7fB0yp4j"
      },
      "outputs": [],
      "source": [
        "from sklearn.feature_extraction.text import CountVectorizer\n",
        "cv=CountVectorizer(lowercase=True, analyzer='word',ngram_range=(2, 3),stop_words= 'english',\n",
        "                   max_features=5000)\n"
      ]
    },
    {
      "cell_type": "code",
      "execution_count": null,
      "metadata": {
        "id": "zNrrnGwhy6Vq"
      },
      "outputs": [],
      "source": [
        "X_train = cv.fit_transform(X_train)\n",
        "X_test=cv.fit_transform(X_test)"
      ]
    },
    {
      "cell_type": "markdown",
      "metadata": {
        "id": "zuGHQT1azCSA"
      },
      "source": [
        "#Get Model Re-Train"
      ]
    },
    {
      "cell_type": "code",
      "execution_count": null,
      "metadata": {
        "colab": {
          "base_uri": "https://localhost:8080/"
        },
        "id": "KFrYPVHCzJah",
        "outputId": "d7183cc3-bbcd-4e26-c33e-46eeef297f13"
      },
      "outputs": [
        {
          "data": {
            "text/plain": [
              "MultinomialNB()"
            ]
          },
          "execution_count": 137,
          "metadata": {},
          "output_type": "execute_result"
        }
      ],
      "source": [
        "from sklearn.naive_bayes import MultinomialNB\n",
        "model = MultinomialNB()\n",
        "model.fit(X_train, y_train)"
      ]
    },
    {
      "cell_type": "markdown",
      "metadata": {
        "id": "5fVBbNfVzWft"
      },
      "source": [
        "#Get Model Prediction"
      ]
    },
    {
      "cell_type": "code",
      "execution_count": null,
      "metadata": {
        "colab": {
          "base_uri": "https://localhost:8080/"
        },
        "id": "Sx1hkN_szbrc",
        "outputId": "101385e2-756d-4d1b-d77d-50ac7c88d02e"
      },
      "outputs": [
        {
          "data": {
            "text/plain": [
              "(7046,)"
            ]
          },
          "execution_count": 138,
          "metadata": {},
          "output_type": "execute_result"
        }
      ],
      "source": [
        "y_pred = model.predict(X_test)\n",
        "y_pred.shape"
      ]
    },
    {
      "cell_type": "code",
      "execution_count": null,
      "metadata": {
        "colab": {
          "base_uri": "https://localhost:8080/"
        },
        "id": "g96JvN-Mzm4O",
        "outputId": "921def8d-97f9-4a93-9df8-be6fe39a75ec"
      },
      "outputs": [
        {
          "data": {
            "text/plain": [
              "array([1., 1., 1., ..., 1., 1., 0.])"
            ]
          },
          "execution_count": 139,
          "metadata": {},
          "output_type": "execute_result"
        }
      ],
      "source": [
        "y_pred"
      ]
    },
    {
      "cell_type": "markdown",
      "metadata": {
        "id": "ncD0gkwJzrSz"
      },
      "source": [
        "#Get Model Evaluation"
      ]
    },
    {
      "cell_type": "code",
      "execution_count": null,
      "metadata": {
        "id": "Iz7svxrhzvvv"
      },
      "outputs": [],
      "source": [
        "from sklearn.metrics import confusion_matrix, classification_report"
      ]
    },
    {
      "cell_type": "code",
      "execution_count": null,
      "metadata": {
        "colab": {
          "base_uri": "https://localhost:8080/"
        },
        "id": "ffRKEXflz0NZ",
        "outputId": "a72c463c-e9c2-4a83-fbe0-59fcf6b77969"
      },
      "outputs": [
        {
          "name": "stdout",
          "output_type": "stream",
          "text": [
            "[[ 443 1140]\n",
            " [1202 4261]]\n"
          ]
        }
      ],
      "source": [
        "print(confusion_matrix(y_test,y_pred))"
      ]
    },
    {
      "cell_type": "code",
      "execution_count": null,
      "metadata": {
        "colab": {
          "base_uri": "https://localhost:8080/"
        },
        "id": "kN5Gx9Jpz6PW",
        "outputId": "c636a071-f25b-43a5-853a-313d73a8cd28"
      },
      "outputs": [
        {
          "name": "stdout",
          "output_type": "stream",
          "text": [
            "              precision    recall  f1-score   support\n",
            "\n",
            "         0.0       0.27      0.28      0.27      1583\n",
            "         1.0       0.79      0.78      0.78      5463\n",
            "\n",
            "    accuracy                           0.67      7046\n",
            "   macro avg       0.53      0.53      0.53      7046\n",
            "weighted avg       0.67      0.67      0.67      7046\n",
            "\n"
          ]
        }
      ],
      "source": [
        "print(classification_report(y_test,y_pred))"
      ]
    }
  ],
  "metadata": {
    "colab": {
      "name": "women clothing review.ipynb",
      "provenance": []
    },
    "kernelspec": {
      "display_name": "Python 3",
      "name": "python3"
    },
    "language_info": {
      "name": "python"
    }
  },
  "nbformat": 4,
  "nbformat_minor": 0
}
